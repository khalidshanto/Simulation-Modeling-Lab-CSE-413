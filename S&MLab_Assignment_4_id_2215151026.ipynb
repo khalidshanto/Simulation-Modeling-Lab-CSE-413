{
  "nbformat": 4,
  "nbformat_minor": 0,
  "metadata": {
    "colab": {
      "provenance": [],
      "authorship_tag": "ABX9TyOW3uJ6eCfQk4r2StJHAzG6",
      "include_colab_link": true
    },
    "kernelspec": {
      "name": "python3",
      "display_name": "Python 3"
    },
    "language_info": {
      "name": "python"
    }
  },
  "cells": [
    {
      "cell_type": "markdown",
      "metadata": {
        "id": "view-in-github",
        "colab_type": "text"
      },
      "source": [
        "<a href=\"https://colab.research.google.com/github/khalidshanto/Simulation-Modeling-Lab-CSE-413/blob/main/S%26MLab_Assignment_4_id_2215151026.ipynb\" target=\"_parent\"><img src=\"https://colab.research.google.com/assets/colab-badge.svg\" alt=\"Open In Colab\"/></a>"
      ]
    },
    {
      "cell_type": "markdown",
      "source": [
        "Name: Md. Khalid Hasan Shanto\n",
        "ID. 2215151026\n",
        "Sec: 7A2\n",
        "Course: Simulation and Modeling Lab"
      ],
      "metadata": {
        "id": "P4iUqq6s74H1"
      }
    },
    {
      "cell_type": "code",
      "source": [
        "import numpy as np\n",
        "from sympy import Matrix\n",
        "import matplotlib.pyplot as plt\n",
        "import seaborn as sns\n",
        "import scipy.stats as stats"
      ],
      "metadata": {
        "id": "dxCUDu6t8U93"
      },
      "execution_count": 29,
      "outputs": []
    },
    {
      "cell_type": "code",
      "source": [
        "#Randomly generate 50 values from a normal distribution with a chosen mean (μ1 = 100) and standard deviation (i.e. 5).\n",
        "nvalues1 = np.random.normal(100,10,50)"
      ],
      "metadata": {
        "id": "79QZr1Gh994-"
      },
      "execution_count": 30,
      "outputs": []
    },
    {
      "cell_type": "code",
      "source": [
        "#Randomly generate 50 values from a normal distribution with a chosen mean (μ1 = 200) and standard deviation (i.e. 6).\n",
        "nvalues2 = np.random.normal(200,15,50)"
      ],
      "metadata": {
        "id": "tAsU1SIG-CEc"
      },
      "execution_count": 31,
      "outputs": []
    },
    {
      "cell_type": "code",
      "source": [
        "#Generate two sets of from a normal distribution and perform a two-sample t-test.\n",
        "\n",
        "t_statistic, p_value = stats.ttest_ind(nvalues1, nvalues2, equal_var=True)\n",
        "\n",
        "mean_diff = np.mean(nvalues1) - np.mean(nvalues2)\n",
        "std_err = np.sqrt(np.var(nvalues1, ddof=1)/len(nvalues1) + np.var(nvalues2, ddof=1)/len(nvalues2))\n",
        "df = (std_err**4) / ((np.var(nvalues1, ddof=1)/len(nvalues1))**2 / (len(nvalues1)-1) + (np.var(nvalues2, ddof=1)/len(nvalues2))**2 / (len(nvalues2)-1))\n",
        "ci = stats.t.interval(0.95, df, loc=mean_diff, scale=std_err)"
      ],
      "metadata": {
        "id": "0f0kFpVu-PO-"
      },
      "execution_count": 32,
      "outputs": []
    },
    {
      "cell_type": "code",
      "source": [
        "\n",
        "print(f'Sample 1 Mean: {np.mean(nvalues1):.2f}')\n",
        "print(f'Sample 2 Mean: {np.mean(nvalues2):.2f}')\n",
        "print(f't-Statistic: {t_statistic:.2f}')\n",
        "print(f'p-Value: {p_value:.4f}')\n",
        "print(f'Degree of Freedom: {df:.2f}')\n",
        "print(f'95% Confidence Interval: ({ci[0]:.2f}, {ci[1]:.2f})')"
      ],
      "metadata": {
        "colab": {
          "base_uri": "https://localhost:8080/"
        },
        "id": "weW8n7MK-Una",
        "outputId": "fec79adc-a581-4b8b-adb1-32dd498092a7"
      },
      "execution_count": 33,
      "outputs": [
        {
          "output_type": "stream",
          "name": "stdout",
          "text": [
            "Sample 1 Mean: 97.41\n",
            "Sample 2 Mean: 200.42\n",
            "t-Statistic: -43.82\n",
            "p-Value: 0.0000\n",
            "Degree of Freedom: 83.96\n",
            "95% Confidence Interval: (-107.68, -98.33)\n"
          ]
        }
      ]
    },
    {
      "cell_type": "code",
      "source": [
        "\n",
        "alpha = 0.05\n",
        "if p_value < alpha:\n",
        "    print(\"Reject the null hypothesis. The means of the two samples are significantly different.\")\n",
        "else:\n",
        "    print(\"Fail to reject the null hypothesis. The means of the two samples are not significantly different.\")"
      ],
      "metadata": {
        "colab": {
          "base_uri": "https://localhost:8080/"
        },
        "id": "MKXIPChj-dMx",
        "outputId": "0333579a-ba9f-465f-e092-9db34d9bdabe"
      },
      "execution_count": 34,
      "outputs": [
        {
          "output_type": "stream",
          "name": "stdout",
          "text": [
            "Reject the null hypothesis. The means of the two samples are significantly different.\n"
          ]
        }
      ]
    },
    {
      "cell_type": "code",
      "source": [
        "plt.figure(figsize=(6, 4))\n",
        "plt.bar(['Sample 1', 'Sample 2'], [np.mean(nvalues1), np.mean(nvalues2)], color=['green', 'blue'], alpha=0.7)\n",
        "plt.errorbar(['Sample 1', 'Sample 2'], [np.mean(nvalues1), np.mean(nvalues2)], yerr=[np.std(nvalues1, ddof=1), np.std(nvalues2, ddof=1)], fmt='k_', capsize=5)\n",
        "plt.title('Comparison of Sample Means')\n",
        "plt.ylabel('Mean Value')\n",
        "plt.grid(True)\n",
        "plt.show()\n",
        ""
      ],
      "metadata": {
        "colab": {
          "base_uri": "https://localhost:8080/",
          "height": 391
        },
        "id": "IvKtGGhx-fVT",
        "outputId": "1f72550c-ed60-4d10-dd76-164ba3660a72"
      },
      "execution_count": 35,
      "outputs": [
        {
          "output_type": "display_data",
          "data": {
            "text/plain": [
              "<Figure size 600x400 with 1 Axes>"
            ],
            "image/png": "[encoded data removed]"
          },
          "metadata": {}
        }
      ]
    }
  ]
}