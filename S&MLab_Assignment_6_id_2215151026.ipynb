{
  "nbformat": 4,
  "nbformat_minor": 0,
  "metadata": {
    "colab": {
      "provenance": [],
      "authorship_tag": "ABX9TyO23WjVzeABJ7NIhe3A4xJ4",
      "include_colab_link": true
    },
    "kernelspec": {
      "name": "python3",
      "display_name": "Python 3"
    },
    "language_info": {
      "name": "python"
    }
  },
  "cells": [
    {
      "cell_type": "markdown",
      "metadata": {
        "id": "view-in-github",
        "colab_type": "text"
      },
      "source": [
        "<a href=\"https://colab.research.google.com/github/khalidshanto/Simulation-Modeling-Lab-CSE-413/blob/main/S%26MLab_Assignment_6_id_2215151026.ipynb\" target=\"_parent\"><img src=\"https://colab.research.google.com/assets/colab-badge.svg\" alt=\"Open In Colab\"/></a>"
      ]
    },
    {
      "cell_type": "markdown",
      "source": [
        "Name: Md. Khalid Hasan Shanto\n",
        "ID. 2215151026\n",
        "Sec: 7A2\n"
      ],
      "metadata": {
        "id": "IxYXfpb6X_I8"
      }
    },
    {
      "cell_type": "code",
      "source": [
        "#a) Estimated Average Order Size\n",
        "import numpy as np\n",
        "\n",
        "# Part a) Average order size\n",
        "inventory = [15, 25, 35, 40, 42, 55]\n",
        "probabilities = [0.12, 0.25, 0.35, 0.20, 0.06, 0.02]\n",
        "num_orders = 30  # 60 weeks / 2 weeks per order\n",
        "\n",
        "np.random.seed(42)  # For reproducibility\n",
        "sampled_inventory = np.random.choice(inventory, size=num_orders, p=probabilities)\n",
        "order_sizes = 100 - sampled_inventory\n",
        "average_order_size = np.mean(order_sizes)\n",
        "\n",
        "print(f\"a) Estimated average order size: {average_order_size:.2f}\")"
      ],
      "metadata": {
        "colab": {
          "base_uri": "https://localhost:8080/"
        },
        "id": "84e2AXdbYSW4",
        "outputId": "7e8b67a4-c721-4732-db71-5c41babeecdd"
      },
      "execution_count": 7,
      "outputs": [
        {
          "output_type": "stream",
          "name": "stdout",
          "text": [
            "a) Estimated average order size: 69.53\n"
          ]
        }
      ]
    },
    {
      "cell_type": "code",
      "source": [
        "#b) Average Total Cost of \"Having\" the Product\n",
        "\n",
        "ordering_cost = 50 + 4 * order_sizes\n",
        "holding_cost = (100 + sampled_inventory) * 1  # Assumption: average inventory during cycle\n",
        "total_cost_per_cycle = ordering_cost + holding_cost\n",
        "average_total_cost_per_week = np.sum(total_cost_per_cycle) / 60  # Over 60 weeks\n",
        "\n",
        "print(f\"b) Average total cost per week: ${average_total_cost_per_week:.2f}\")"
      ],
      "metadata": {
        "colab": {
          "base_uri": "https://localhost:8080/"
        },
        "id": "xqYA3tKTY4tw",
        "outputId": "fd5248ae-274d-4a65-e419-100022aa02cc"
      },
      "execution_count": 8,
      "outputs": [
        {
          "output_type": "stream",
          "name": "stdout",
          "text": [
            "b) Average total cost per week: $229.30\n"
          ]
        }
      ]
    },
    {
      "cell_type": "markdown",
      "source": [
        "Single Server Queueing"
      ],
      "metadata": {
        "id": "TCQZW16iZLEF"
      }
    },
    {
      "cell_type": "code",
      "source": [
        "# Problem 1: λ=3, μ=4\n",
        "lambda_ = 3\n",
        "mu = 4\n",
        "num_customers = 200\n",
        "\n",
        "# Generate arrivals and service times\n",
        "inter_arrivals = np.random.exponential(1/lambda_, num_customers)\n",
        "arrival_times = np.cumsum(inter_arrivals)\n",
        "service_times = np.random.exponential(1/mu, num_customers)\n",
        "\n",
        "# Simulate queue\n",
        "waiting_times = []\n",
        "service_end = 0\n",
        "\n",
        "for i in range(num_customers):\n",
        "    arrival = arrival_times[i]\n",
        "    if arrival < service_end:\n",
        "        waiting = service_end - arrival\n",
        "    else:\n",
        "        waiting = 0\n",
        "    service_end = max(arrival, service_end) + service_times[i]\n",
        "    waiting_times.append(waiting)\n",
        "\n",
        "avg_wait = np.mean(waiting_times)\n",
        "utilization = np.sum(service_times) / service_end  # Total busy time / total time\n",
        "\n",
        "print(f\"1. Average waiting time: {avg_wait:.2f}\")\n",
        "print(f\"   Server utilization: {utilization:.2f}\")"
      ],
      "metadata": {
        "colab": {
          "base_uri": "https://localhost:8080/"
        },
        "id": "qT7bQiBQZOJ5",
        "outputId": "9c699bd7-b93e-4960-825c-5ec5d4240361"
      },
      "execution_count": 9,
      "outputs": [
        {
          "output_type": "stream",
          "name": "stdout",
          "text": [
            "1. Average waiting time: 0.59\n",
            "   Server utilization: 0.80\n"
          ]
        }
      ]
    },
    {
      "cell_type": "code",
      "source": [
        "# Problem 2: λ=8, μ=6\n",
        "lambda_ = 8\n",
        "mu = 6\n",
        "num_customers = 200  # Simulate until 200 customers\n",
        "\n",
        "inter_arrivals = np.random.exponential(1/lambda_, num_customers)\n",
        "arrival_times = np.cumsum(inter_arrivals)\n",
        "service_times = np.random.exponential(1/mu, num_customers)\n",
        "\n",
        "waiting_times = []\n",
        "queue_lengths = []\n",
        "service_end = 0\n",
        "\n",
        "for i in range(num_customers):\n",
        "    arrival = arrival_times[i]\n",
        "    if arrival < service_end:\n",
        "        waiting = service_end - arrival\n",
        "    else:\n",
        "        waiting = 0\n",
        "    service_end = max(arrival, service_end) + service_times[i]\n",
        "    waiting_times.append(waiting)\n",
        "\n",
        "avg_wait = np.mean(waiting_times)\n",
        "utilization = np.sum(service_times) / service_end\n",
        "\n",
        "print(\"2. Impact of server overload:\")\n",
        "print(f\"   Average waiting time: {avg_wait:.2f}\")\n",
        "print(f\"   Server utilization: {utilization:.2f}\")\n",
        "# Discussion: With λ > μ, waiting times grow significantly, leading to unstable queues."
      ],
      "metadata": {
        "colab": {
          "base_uri": "https://localhost:8080/"
        },
        "id": "zm1ql5JdZWV7",
        "outputId": "8052470c-fade-4b5b-c109-1762ce5a8697"
      },
      "execution_count": 10,
      "outputs": [
        {
          "output_type": "stream",
          "name": "stdout",
          "text": [
            "2. Impact of server overload:\n",
            "   Average waiting time: 1.66\n",
            "   Server utilization: 0.93\n"
          ]
        }
      ]
    },
    {
      "cell_type": "code",
      "source": [
        "# Problem 3: Limited queue capacity (max 10)\n",
        "lambda_ = 3\n",
        "mu = 4\n",
        "max_queue = 10  # Total capacity (including being served)\n",
        "num_customers = 200\n",
        "\n",
        "inter_arrivals = np.random.exponential(1/lambda_, num_customers)\n",
        "arrival_times = np.cumsum(inter_arrivals)\n",
        "service_times = np.random.exponential(1/mu, num_customers)\n",
        "\n",
        "waiting_times = []\n",
        "rejected = 0\n",
        "service_end = 0\n",
        "current_queue = 0\n",
        "\n",
        "for i in range(num_customers):\n",
        "    arrival = arrival_times[i]\n",
        "    # Remove customers already served by arrival time\n",
        "    while current_queue > 0 and service_end <= arrival:\n",
        "        current_queue -= 1\n",
        "    if current_queue >= max_queue:\n",
        "        rejected += 1\n",
        "        continue\n",
        "    if arrival >= service_end:\n",
        "        waiting = 0\n",
        "        service_end = arrival + service_times[i]\n",
        "    else:\n",
        "        waiting = service_end - arrival\n",
        "        service_end += service_times[i]\n",
        "    waiting_times.append(waiting)\n",
        "    current_queue += 1\n",
        "\n",
        "avg_wait = np.mean(waiting_times) if waiting_times else 0\n",
        "utilization = np.sum(service_times[:len(waiting_times)]) / service_end\n",
        "\n",
        "print(\"3. With limited queue capacity:\")\n",
        "print(f\"   Average waiting time: {avg_wait:.2f}\")\n",
        "print(f\"   Rejected customers: {rejected}\")\n",
        "print(f\"   Server utilization: {utilization:.2f}\")"
      ],
      "metadata": {
        "colab": {
          "base_uri": "https://localhost:8080/"
        },
        "id": "l54zqipHZbkI",
        "outputId": "b666ce78-3e92-4107-c085-30152a671172"
      },
      "execution_count": 11,
      "outputs": [
        {
          "output_type": "stream",
          "name": "stdout",
          "text": [
            "3. With limited queue capacity:\n",
            "   Average waiting time: 0.37\n",
            "   Rejected customers: 41\n",
            "   Server utilization: 0.71\n"
          ]
        }
      ]
    }
  ]
}