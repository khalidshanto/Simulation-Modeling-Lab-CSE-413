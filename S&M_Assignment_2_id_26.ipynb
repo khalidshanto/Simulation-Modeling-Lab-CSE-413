{
  "nbformat": 4,
  "nbformat_minor": 0,
  "metadata": {
    "colab": {
      "provenance": [],
      "authorship_tag": "ABX9TyN7NmKSVOmm3nS3OUczt8MQ",
      "include_colab_link": true
    },
    "kernelspec": {
      "name": "python3",
      "display_name": "Python 3"
    },
    "language_info": {
      "name": "python"
    }
  },
  "cells": [
    {
      "cell_type": "markdown",
      "metadata": {
        "id": "view-in-github",
        "colab_type": "text"
      },
      "source": [
        "<a href=\"https://colab.research.google.com/github/khalidshanto/khalidshanto/blob/main/S%26M_Assignment_2_id_26.ipynb\" target=\"_parent\"><img src=\"https://colab.research.google.com/assets/colab-badge.svg\" alt=\"Open In Colab\"/></a>"
      ]
    },
    {
      "cell_type": "code",
      "source": [
        "# importing necessary libraries.\n",
        "import numpy as np\n",
        "from sympy import Matrix\n",
        "import matplotlib.pyplot as plt\n",
        "import seaborn as sns"
      ],
      "metadata": {
        "id": "-OHwmREeZfWy"
      },
      "execution_count": 19,
      "outputs": []
    },
    {
      "cell_type": "code",
      "source": [
        "# Run the code twice.\n",
        "matrix1 = np.random.randint(1, 51, size=(3, 3))\n",
        "print(\"The Matrix:\\n\",matrix1)"
      ],
      "metadata": {
        "colab": {
          "base_uri": "https://localhost:8080/"
        },
        "id": "HzdNiuKzZtIy",
        "outputId": "f1580782-fa05-4c61-9121-a605c5056dbb"
      },
      "execution_count": 20,
      "outputs": [
        {
          "output_type": "stream",
          "name": "stdout",
          "text": [
            "The Matrix:\n",
            " [[50  5 50]\n",
            " [43 44 41]\n",
            " [41 17 40]]\n"
          ]
        }
      ]
    },
    {
      "cell_type": "code",
      "source": [
        "  #With a fixed seed (`np.random.seed(10)`) to ensure reproducibility.\n",
        "np.random.seed(10)\n",
        "matrix2 = np.random.randint(1, 51, size=(3, 3))\n",
        "print(\"The Matrix:\\n\",matrix2)"
      ],
      "metadata": {
        "colab": {
          "base_uri": "https://localhost:8080/"
        },
        "id": "OltLR8EPaNNU",
        "outputId": "ef29672b-2bfe-4015-e33b-f7bc2dbe2e91"
      },
      "execution_count": 21,
      "outputs": [
        {
          "output_type": "stream",
          "name": "stdout",
          "text": [
            "The Matrix:\n",
            " [[10 37 16]\n",
            " [ 1 50 29]\n",
            " [26 30 49]]\n"
          ]
        }
      ]
    },
    {
      "cell_type": "code",
      "source": [
        "#  Without setting a seed, allowing random values to change each time.\n",
        "np.random.seed(None)\n",
        "non_seeded_matrix = np.random.randint(1, 51, (3, 3))\n",
        "print(\"\\nMatrix without fixed seed:\\n\", non_seeded_matrix)"
      ],
      "metadata": {
        "colab": {
          "base_uri": "https://localhost:8080/"
        },
        "id": "RGypwhQtaqza",
        "outputId": "8427bd5f-d2d5-4a8a-82ab-721226c2a4f5"
      },
      "execution_count": 22,
      "outputs": [
        {
          "output_type": "stream",
          "name": "stdout",
          "text": [
            "\n",
            "Matrix without fixed seed:\n",
            " [[42 20 16]\n",
            " [14 47  8]\n",
            " [40  5  1]]\n"
          ]
        }
      ]
    },
    {
      "cell_type": "code",
      "source": [
        " #Observe and explain the differences in outputs. (in a different cell as text).\n",
        "\n",
        "1.\tnp.random.seed(10) in the first matrix guarantees that the initial random numbers will always be the same each time the code executes.\n",
        "\n",
        "2.\tWe can observe that \"np.random.seed()\" was used in this instance; nevertheless, because \"None\" appears in the aforementioned function, the code with no seed value produces a random value for the nonseeded matrix (matrix 3) each time it is executed.\n",
        "\n",
        "3.Why seed value 10?\n",
        "The rationale behind selecting \"10\" as the seed value is that it implies that any number, specifically those falling between 0 and 9, will be utilized as the seed.\n",
        "This guarantees that the random values will not change.\n"
      ],
      "metadata": {
        "id": "_GZi10aFnBOX"
      },
      "execution_count": null,
      "outputs": []
    }
  ]
}